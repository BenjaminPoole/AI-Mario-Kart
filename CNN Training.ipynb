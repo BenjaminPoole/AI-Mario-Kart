{
 "cells": [
  {
   "cell_type": "code",
   "execution_count": null,
   "source": [
    "import matplotlib.pyplot as plt\r\n",
    "import os\r\n"
   ],
   "outputs": [],
   "metadata": {}
  },
  {
   "cell_type": "markdown",
   "source": [
    "## Load Data\r\n",
    "We will now get the filepaths of our images and append them to a 1D array. We will also get the steering data from the filename and append that to our labels array."
   ],
   "metadata": {}
  },
  {
   "cell_type": "code",
   "execution_count": null,
   "source": [
    "images=[]\r\n",
    "labels=[] # left = 0, right = 1\r\n",
    "\r\n",
    "\r\n",
    "for folder in os.listdir('myData'):\r\n",
    "    for img in os.listdir(os.path.join('myData',folder)):\r\n",
    "        images.append(os.path.join('myData',folder,img))\r\n",
    "        \r\n",
    "        wasd=img.split('_')[1][5:] # left = wasd[1]\r\n",
    "        #                          # right = wasd[3]\r\n",
    "        if wasd[1] == '1' and wasd[3] == '0': # Turning left\r\n",
    "            labels.append('left')\r\n",
    "            \r\n",
    "        elif wasd[1] == '0' and wasd[3] == '1': # Turning right\r\n",
    "            labels.append('right')\r\n",
    "        else:\r\n",
    "            labels.append('center')\r\n"
   ],
   "outputs": [],
   "metadata": {}
  },
  {
   "cell_type": "markdown",
   "source": [
    "## Visualise data\r\n",
    "View our labels with matplotlib to check that they are balanced and that everything is working so far."
   ],
   "metadata": {}
  },
  {
   "cell_type": "code",
   "execution_count": null,
   "source": [
    "plt.bar(['Left','Center','Right'],labels)"
   ],
   "outputs": [],
   "metadata": {}
  },
  {
   "cell_type": "code",
   "execution_count": 16,
   "source": [
    "len?"
   ],
   "outputs": [
    {
     "output_type": "stream",
     "name": "stdout",
     "text": [
      "\u001b[1;31mSignature:\u001b[0m \u001b[0mlen\u001b[0m\u001b[1;33m(\u001b[0m\u001b[0mobj\u001b[0m\u001b[1;33m,\u001b[0m \u001b[1;33m/\u001b[0m\u001b[1;33m)\u001b[0m\u001b[1;33m\u001b[0m\u001b[1;33m\u001b[0m\u001b[0m\n",
      "\u001b[1;31mDocstring:\u001b[0m Return the number of items in a container.\n",
      "\u001b[1;31mType:\u001b[0m      builtin_function_or_method\n"
     ]
    }
   ],
   "metadata": {}
  },
  {
   "cell_type": "code",
   "execution_count": null,
   "source": [],
   "outputs": [],
   "metadata": {}
  }
 ],
 "metadata": {
  "orig_nbformat": 4,
  "language_info": {
   "name": "python",
   "version": "3.9.5",
   "mimetype": "text/x-python",
   "codemirror_mode": {
    "name": "ipython",
    "version": 3
   },
   "pygments_lexer": "ipython3",
   "nbconvert_exporter": "python",
   "file_extension": ".py"
  },
  "kernelspec": {
   "name": "python3",
   "display_name": "Python 3.9.5 64-bit"
  },
  "interpreter": {
   "hash": "2647ea34e536f865ab67ff9ddee7fd78773d956cec0cab53c79b32cd10da5d83"
  }
 },
 "nbformat": 4,
 "nbformat_minor": 2
}